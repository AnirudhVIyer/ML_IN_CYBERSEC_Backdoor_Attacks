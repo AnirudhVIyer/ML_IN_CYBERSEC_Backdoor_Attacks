{
  "nbformat": 4,
  "nbformat_minor": 0,
  "metadata": {
    "colab": {
      "provenance": [],
      "machine_shape": "hm",
      "gpuType": "V100"
    },
    "kernelspec": {
      "name": "python3",
      "display_name": "Python 3"
    },
    "language_info": {
      "name": "python"
    },
    "accelerator": "GPU"
  },
  "cells": [
    {
      "cell_type": "markdown",
      "source": [
        "# SETUP"
      ],
      "metadata": {
        "id": "BIeZ2B_i8HUd"
      }
    },
    {
      "cell_type": "code",
      "source": [
        "import h5py\n",
        "import numpy as np\n",
        "import tensorflow as tf\n",
        "from tensorflow.keras.models import load_model\n",
        "from tensorflow.keras.layers import Layer\n",
        "from tensorflow.keras.models import Model,clone_model"
      ],
      "metadata": {
        "id": "QHSJBwPw8u3a"
      },
      "execution_count": 1,
      "outputs": []
    },
    {
      "cell_type": "code",
      "execution_count": 2,
      "metadata": {
        "colab": {
          "base_uri": "https://localhost:8080/"
        },
        "id": "s8Cd8AGY6GQ8",
        "outputId": "6a7ea277-3f2a-403c-aeb6-0523aa3622bc"
      },
      "outputs": [
        {
          "output_type": "stream",
          "name": "stdout",
          "text": [
            "Mounted at /content/drive\n"
          ]
        }
      ],
      "source": [
        "from google.colab import drive\n",
        "drive.mount(\"/content/drive\")"
      ]
    },
    {
      "cell_type": "code",
      "source": [
        "!git clone https://github.com/csaw-hackml/CSAW-HackML-2020"
      ],
      "metadata": {
        "colab": {
          "base_uri": "https://localhost:8080/"
        },
        "id": "gFrkrz4b7WDn",
        "outputId": "05071438-142f-404c-fea4-556e7a20aaf5"
      },
      "execution_count": 3,
      "outputs": [
        {
          "output_type": "stream",
          "name": "stdout",
          "text": [
            "Cloning into 'CSAW-HackML-2020'...\n",
            "remote: Enumerating objects: 220, done.\u001b[K\n",
            "remote: Counting objects: 100% (42/42), done.\u001b[K\n",
            "remote: Compressing objects: 100% (25/25), done.\u001b[K\n",
            "remote: Total 220 (delta 37), reused 17 (delta 17), pack-reused 178\u001b[K\n",
            "Receiving objects: 100% (220/220), 83.78 MiB | 45.83 MiB/s, done.\n",
            "Resolving deltas: 100% (83/83), done.\n"
          ]
        }
      ]
    },
    {
      "cell_type": "code",
      "source": [
        "## datapaths setup\n",
        "\n",
        "clean_val_path = \"/content/drive/MyDrive/data/Lab3/cl/valid.h5\"\n",
        "clean_test_path = \"/content/drive/MyDrive/data/Lab3/cl/test.h5\"\n",
        "bad_val_path = \"/content/drive/MyDrive/data/Lab3/bd/bd_valid.h5\"\n",
        "bad_test_path = \"/content/drive/MyDrive/data/Lab3/bd/bd_test.h5\"\n",
        "\n",
        "\n",
        "# Let us retrieve the dataset stored in h5 form\n",
        "def data_loader(path):\n",
        "    data = h5py.File(path)\n",
        "    X = np.array(data[\"data\"])\n",
        "    X = X.transpose((0,2,3,1))\n",
        "    Y = np.array(data[\"label\"])\n",
        "\n",
        "    return X,Y\n",
        "\n",
        "clean_val,clean_val_lab = data_loader(clean_val_path)\n",
        "clean_test,clean_test_lab = data_loader(clean_test_path)\n",
        "bad_val,bad_val_lab = data_loader(bad_val_path)\n",
        "bad_test,bad_test_lab = data_loader(bad_test_path)"
      ],
      "metadata": {
        "id": "DS2H3quV7a_s"
      },
      "execution_count": 23,
      "outputs": []
    },
    {
      "cell_type": "markdown",
      "source": [
        "# Model"
      ],
      "metadata": {
        "id": "PNsYaftcNPTL"
      }
    },
    {
      "cell_type": "code",
      "source": [
        "# Let us load the given Badnet\n",
        "Badnet_path = \"/content/CSAW-HackML-2020/lab3/models/bd_net.h5\"\n",
        "Badnet_weights_path = \"/content/CSAW-HackML-2020/lab3/models/bd_weights.h5\"\n",
        "Badnet = load_model(Badnet_path)\n",
        "Badnet.summary()"
      ],
      "metadata": {
        "colab": {
          "base_uri": "https://localhost:8080/"
        },
        "id": "Y5PGWUwKMFiB",
        "outputId": "78698259-99a0-4cb0-9078-ce5dcbb9d16f"
      },
      "execution_count": 5,
      "outputs": [
        {
          "output_type": "stream",
          "name": "stdout",
          "text": [
            "Model: \"model_1\"\n",
            "__________________________________________________________________________________________________\n",
            " Layer (type)                Output Shape                 Param #   Connected to                  \n",
            "==================================================================================================\n",
            " input (InputLayer)          [(None, 55, 47, 3)]          0         []                            \n",
            "                                                                                                  \n",
            " conv_1 (Conv2D)             (None, 52, 44, 20)           980       ['input[0][0]']               \n",
            "                                                                                                  \n",
            " pool_1 (MaxPooling2D)       (None, 26, 22, 20)           0         ['conv_1[0][0]']              \n",
            "                                                                                                  \n",
            " conv_2 (Conv2D)             (None, 24, 20, 40)           7240      ['pool_1[0][0]']              \n",
            "                                                                                                  \n",
            " pool_2 (MaxPooling2D)       (None, 12, 10, 40)           0         ['conv_2[0][0]']              \n",
            "                                                                                                  \n",
            " conv_3 (Conv2D)             (None, 10, 8, 60)            21660     ['pool_2[0][0]']              \n",
            "                                                                                                  \n",
            " pool_3 (MaxPooling2D)       (None, 5, 4, 60)             0         ['conv_3[0][0]']              \n",
            "                                                                                                  \n",
            " conv_4 (Conv2D)             (None, 4, 3, 80)             19280     ['pool_3[0][0]']              \n",
            "                                                                                                  \n",
            " flatten_1 (Flatten)         (None, 1200)                 0         ['pool_3[0][0]']              \n",
            "                                                                                                  \n",
            " flatten_2 (Flatten)         (None, 960)                  0         ['conv_4[0][0]']              \n",
            "                                                                                                  \n",
            " fc_1 (Dense)                (None, 160)                  192160    ['flatten_1[0][0]']           \n",
            "                                                                                                  \n",
            " fc_2 (Dense)                (None, 160)                  153760    ['flatten_2[0][0]']           \n",
            "                                                                                                  \n",
            " add_1 (Add)                 (None, 160)                  0         ['fc_1[0][0]',                \n",
            "                                                                     'fc_2[0][0]']                \n",
            "                                                                                                  \n",
            " activation_1 (Activation)   (None, 160)                  0         ['add_1[0][0]']               \n",
            "                                                                                                  \n",
            " output (Dense)              (None, 1283)                 206563    ['activation_1[0][0]']        \n",
            "                                                                                                  \n",
            "==================================================================================================\n",
            "Total params: 601643 (2.30 MB)\n",
            "Trainable params: 601643 (2.30 MB)\n",
            "Non-trainable params: 0 (0.00 Byte)\n",
            "__________________________________________________________________________________________________\n"
          ]
        }
      ]
    },
    {
      "cell_type": "code",
      "source": [
        "from sklearn.metrics import accuracy_score\n",
        "# Let us calculate the original accuracy of the Badnet\n",
        "\n",
        "def get_accuracy(model, data, labels):\n",
        "    predictions = model.predict(data,verbose=0)\n",
        "    predicted_classes = np.argmax(predictions, axis=1)\n",
        "    accuracy = np.mean(predicted_classes == labels)\n",
        "    return accuracy*100\n"
      ],
      "metadata": {
        "id": "BrJrPqGkN44X"
      },
      "execution_count": 48,
      "outputs": []
    },
    {
      "cell_type": "markdown",
      "source": [
        "# Pruning the model"
      ],
      "metadata": {
        "id": "u-42wAFYnO6b"
      }
    },
    {
      "cell_type": "code",
      "source": [
        "layer0 = Badnet.layers[0](clean_val)\n",
        "layer1 = Badnet.layers[1](tf.cast(layer0, tf.float32))\n",
        "layer2 = Badnet.layers[2](tf.cast(layer1, tf.float32))\n",
        "layer3 = Badnet.layers[3](tf.cast(layer2, tf.float32))\n",
        "layer4 = Badnet.layers[4](tf.cast(layer3, tf.float32))\n",
        "layer5 = Badnet.layers[5](tf.cast(layer4, tf.float32))\n",
        "layer6 = Badnet.layers[6](tf.cast(layer5, tf.float32))\n",
        "op_val = np.array(layer6)\n",
        "avg_val = np.mean(op_val, axis=(0,1,2))\n",
        "\n",
        "# Sort ny activation\n",
        "sorted_channels = np.argsort(avg_val)\n",
        "print(sorted_channels)"
      ],
      "metadata": {
        "id": "NlSgZHqSer9m",
        "outputId": "94366a3a-6cbd-465a-cf54-bee7f92b4212",
        "colab": {
          "base_uri": "https://localhost:8080/"
        }
      },
      "execution_count": 7,
      "outputs": [
        {
          "output_type": "stream",
          "name": "stdout",
          "text": [
            "[ 0 26 27 30 31 33 34 36 37 38 25 39 41 44 45 47 48 49 50 53 55 40 24 59\n",
            "  9  2 12 13 17 14 15 23  6 51 32 22 21 20 19 43 58  3 42  1 29 16 56 46\n",
            "  5  8 11 54 10 28 35 18  4  7 52 57]\n"
          ]
        }
      ]
    },
    {
      "cell_type": "code",
      "source": [
        "def reset_clone():\n",
        "  clone_thresh = clone_model(Badnet)\n",
        "  clone_thresh.set_weights(Badnet.get_weights())\n",
        "  pool_layer_weights = clone_thresh.get_layer(\"conv_3\").get_weights()\n",
        "  weights = pool_layer_weights[0]\n",
        "  bias = pool_layer_weights[1]\n",
        "  return clone_thresh, weights, bias"
      ],
      "metadata": {
        "id": "8C5lHECeF8um"
      },
      "execution_count": 8,
      "outputs": []
    },
    {
      "cell_type": "code",
      "source": [
        "acc_after_prune = {}\n",
        "attack_success_after_prune = {}\n",
        "threshmodels = {}\n",
        "\n",
        "original_accuracy = get_accuracy(Badnet,clean_val,clean_val_lab)\n",
        "\n",
        "\n",
        "\n",
        "clone_thresh, weights, bias = reset_clone()\n",
        "threshes = [2,4,10]\n",
        "t = 0\n",
        "for i,channel in enumerate(sorted_channels):\n",
        "    print(\"Channels pruned : \"+str(i+1)+\"/\"+str(60))\n",
        "    # prune channel\n",
        "\n",
        "    weights[:, :, :, channel] = 0\n",
        "    bias[channel] = 0\n",
        "    clone_thresh.get_layer(\"conv_3\").set_weights([weights,bias])\n",
        "\n",
        "    # Calculate accuracy\n",
        "    pruned_accuracy = get_accuracy(clone_thresh, clean_val, clean_val_lab)\n",
        "    acc_after_prune[channel] = pruned_accuracy\n",
        "    change_in_acc = original_accuracy - pruned_accuracy\n",
        "    print('----------------------------------------------------------------')\n",
        "    print(f'Threshold of {threshes[t]} %')\n",
        "    print(f\"Channels pruned : {i}/60\")\n",
        "    print(f\"Pruning channel index now: {channel}\")\n",
        "    print(f\"Pruned accuracy : {pruned_accuracy}\")\n",
        "    print(f\"Change in accuracy : {(original_accuracy - pruned_accuracy)}\")\n",
        "\n",
        "    # Check if the accuracy drop is beyond the threshold\n",
        "    if t<len(threshes) and change_in_acc >= threshes[t]:\n",
        "        clone_thresh.save(f'{threshes[t]}_percent_model.h5')\n",
        "        threshmodels[threshes[t]] = clone_thresh\n",
        "        t+=1\n",
        "    if t == len(threshes):\n",
        "      break\n",
        "\n",
        "\n",
        "\n",
        "\n",
        "\n"
      ],
      "metadata": {
        "colab": {
          "base_uri": "https://localhost:8080/"
        },
        "id": "4ag3MFGi0vlu",
        "outputId": "6b388d81-cc86-487b-81cd-0acb634f2e97"
      },
      "execution_count": 9,
      "outputs": [
        {
          "output_type": "stream",
          "name": "stdout",
          "text": [
            "Channels pruned : 1/60\n",
            "----------------------------------------------------------------\n",
            "Threshold of 2 %\n",
            "Channels pruned : 0/60\n",
            "Pruning channel index now: 0\n",
            "Pruned accuracy : 98.64899974019225\n",
            "Change in accuracy : 0.0\n",
            "Channels pruned : 2/60\n",
            "----------------------------------------------------------------\n",
            "Threshold of 2 %\n",
            "Channels pruned : 1/60\n",
            "Pruning channel index now: 26\n",
            "Pruned accuracy : 98.64899974019225\n",
            "Change in accuracy : 0.0\n",
            "Channels pruned : 3/60\n",
            "----------------------------------------------------------------\n",
            "Threshold of 2 %\n",
            "Channels pruned : 2/60\n",
            "Pruning channel index now: 27\n",
            "Pruned accuracy : 98.64899974019225\n",
            "Change in accuracy : 0.0\n",
            "Channels pruned : 4/60\n",
            "----------------------------------------------------------------\n",
            "Threshold of 2 %\n",
            "Channels pruned : 3/60\n",
            "Pruning channel index now: 30\n",
            "Pruned accuracy : 98.64899974019225\n",
            "Change in accuracy : 0.0\n",
            "Channels pruned : 5/60\n",
            "----------------------------------------------------------------\n",
            "Threshold of 2 %\n",
            "Channels pruned : 4/60\n",
            "Pruning channel index now: 31\n",
            "Pruned accuracy : 98.64899974019225\n",
            "Change in accuracy : 0.0\n",
            "Channels pruned : 6/60\n",
            "----------------------------------------------------------------\n",
            "Threshold of 2 %\n",
            "Channels pruned : 5/60\n",
            "Pruning channel index now: 33\n",
            "Pruned accuracy : 98.64899974019225\n",
            "Change in accuracy : 0.0\n",
            "Channels pruned : 7/60\n",
            "----------------------------------------------------------------\n",
            "Threshold of 2 %\n",
            "Channels pruned : 6/60\n",
            "Pruning channel index now: 34\n",
            "Pruned accuracy : 98.64899974019225\n",
            "Change in accuracy : 0.0\n",
            "Channels pruned : 8/60\n",
            "----------------------------------------------------------------\n",
            "Threshold of 2 %\n",
            "Channels pruned : 7/60\n",
            "Pruning channel index now: 36\n",
            "Pruned accuracy : 98.64899974019225\n",
            "Change in accuracy : 0.0\n",
            "Channels pruned : 9/60\n",
            "----------------------------------------------------------------\n",
            "Threshold of 2 %\n",
            "Channels pruned : 8/60\n",
            "Pruning channel index now: 37\n",
            "Pruned accuracy : 98.64899974019225\n",
            "Change in accuracy : 0.0\n",
            "Channels pruned : 10/60\n",
            "----------------------------------------------------------------\n",
            "Threshold of 2 %\n",
            "Channels pruned : 9/60\n",
            "Pruning channel index now: 38\n",
            "Pruned accuracy : 98.64899974019225\n",
            "Change in accuracy : 0.0\n",
            "Channels pruned : 11/60\n",
            "----------------------------------------------------------------\n",
            "Threshold of 2 %\n",
            "Channels pruned : 10/60\n",
            "Pruning channel index now: 25\n",
            "Pruned accuracy : 98.64899974019225\n",
            "Change in accuracy : 0.0\n",
            "Channels pruned : 12/60\n",
            "----------------------------------------------------------------\n",
            "Threshold of 2 %\n",
            "Channels pruned : 11/60\n",
            "Pruning channel index now: 39\n",
            "Pruned accuracy : 98.64899974019225\n",
            "Change in accuracy : 0.0\n",
            "Channels pruned : 13/60\n",
            "----------------------------------------------------------------\n",
            "Threshold of 2 %\n",
            "Channels pruned : 12/60\n",
            "Pruning channel index now: 41\n",
            "Pruned accuracy : 98.64899974019225\n",
            "Change in accuracy : 0.0\n",
            "Channels pruned : 14/60\n",
            "----------------------------------------------------------------\n",
            "Threshold of 2 %\n",
            "Channels pruned : 13/60\n",
            "Pruning channel index now: 44\n",
            "Pruned accuracy : 98.64899974019225\n",
            "Change in accuracy : 0.0\n",
            "Channels pruned : 15/60\n",
            "----------------------------------------------------------------\n",
            "Threshold of 2 %\n",
            "Channels pruned : 14/60\n",
            "Pruning channel index now: 45\n",
            "Pruned accuracy : 98.64899974019225\n",
            "Change in accuracy : 0.0\n",
            "Channels pruned : 16/60\n",
            "----------------------------------------------------------------\n",
            "Threshold of 2 %\n",
            "Channels pruned : 15/60\n",
            "Pruning channel index now: 47\n",
            "Pruned accuracy : 98.64899974019225\n",
            "Change in accuracy : 0.0\n",
            "Channels pruned : 17/60\n",
            "----------------------------------------------------------------\n",
            "Threshold of 2 %\n",
            "Channels pruned : 16/60\n",
            "Pruning channel index now: 48\n",
            "Pruned accuracy : 98.64899974019225\n",
            "Change in accuracy : 0.0\n",
            "Channels pruned : 18/60\n",
            "----------------------------------------------------------------\n",
            "Threshold of 2 %\n",
            "Channels pruned : 17/60\n",
            "Pruning channel index now: 49\n",
            "Pruned accuracy : 98.64899974019225\n",
            "Change in accuracy : 0.0\n",
            "Channels pruned : 19/60\n",
            "----------------------------------------------------------------\n",
            "Threshold of 2 %\n",
            "Channels pruned : 18/60\n",
            "Pruning channel index now: 50\n",
            "Pruned accuracy : 98.64899974019225\n",
            "Change in accuracy : 0.0\n",
            "Channels pruned : 20/60\n",
            "----------------------------------------------------------------\n",
            "Threshold of 2 %\n",
            "Channels pruned : 19/60\n",
            "Pruning channel index now: 53\n",
            "Pruned accuracy : 98.64899974019225\n",
            "Change in accuracy : 0.0\n",
            "Channels pruned : 21/60\n",
            "----------------------------------------------------------------\n",
            "Threshold of 2 %\n",
            "Channels pruned : 20/60\n",
            "Pruning channel index now: 55\n",
            "Pruned accuracy : 98.64899974019225\n",
            "Change in accuracy : 0.0\n",
            "Channels pruned : 22/60\n",
            "----------------------------------------------------------------\n",
            "Threshold of 2 %\n",
            "Channels pruned : 21/60\n",
            "Pruning channel index now: 40\n",
            "Pruned accuracy : 98.64899974019225\n",
            "Change in accuracy : 0.0\n",
            "Channels pruned : 23/60\n",
            "----------------------------------------------------------------\n",
            "Threshold of 2 %\n",
            "Channels pruned : 22/60\n",
            "Pruning channel index now: 24\n",
            "Pruned accuracy : 98.64899974019225\n",
            "Change in accuracy : 0.0\n",
            "Channels pruned : 24/60\n",
            "----------------------------------------------------------------\n",
            "Threshold of 2 %\n",
            "Channels pruned : 23/60\n",
            "Pruning channel index now: 59\n",
            "Pruned accuracy : 98.64899974019225\n",
            "Change in accuracy : 0.0\n",
            "Channels pruned : 25/60\n",
            "----------------------------------------------------------------\n",
            "Threshold of 2 %\n",
            "Channels pruned : 24/60\n",
            "Pruning channel index now: 9\n",
            "Pruned accuracy : 98.64899974019225\n",
            "Change in accuracy : 0.0\n",
            "Channels pruned : 26/60\n",
            "----------------------------------------------------------------\n",
            "Threshold of 2 %\n",
            "Channels pruned : 25/60\n",
            "Pruning channel index now: 2\n",
            "Pruned accuracy : 98.64899974019225\n",
            "Change in accuracy : 0.0\n",
            "Channels pruned : 27/60\n",
            "----------------------------------------------------------------\n",
            "Threshold of 2 %\n",
            "Channels pruned : 26/60\n",
            "Pruning channel index now: 12\n",
            "Pruned accuracy : 98.64899974019225\n",
            "Change in accuracy : 0.0\n",
            "Channels pruned : 28/60\n",
            "----------------------------------------------------------------\n",
            "Threshold of 2 %\n",
            "Channels pruned : 27/60\n",
            "Pruning channel index now: 13\n",
            "Pruned accuracy : 98.64899974019225\n",
            "Change in accuracy : 0.0\n",
            "Channels pruned : 29/60\n",
            "----------------------------------------------------------------\n",
            "Threshold of 2 %\n",
            "Channels pruned : 28/60\n",
            "Pruning channel index now: 17\n",
            "Pruned accuracy : 98.64899974019225\n",
            "Change in accuracy : 0.0\n",
            "Channels pruned : 30/60\n",
            "----------------------------------------------------------------\n",
            "Threshold of 2 %\n",
            "Channels pruned : 29/60\n",
            "Pruning channel index now: 14\n",
            "Pruned accuracy : 98.64899974019225\n",
            "Change in accuracy : 0.0\n",
            "Channels pruned : 31/60\n",
            "----------------------------------------------------------------\n",
            "Threshold of 2 %\n",
            "Channels pruned : 30/60\n",
            "Pruning channel index now: 15\n",
            "Pruned accuracy : 98.64899974019225\n",
            "Change in accuracy : 0.0\n",
            "Channels pruned : 32/60\n",
            "----------------------------------------------------------------\n",
            "Threshold of 2 %\n",
            "Channels pruned : 31/60\n",
            "Pruning channel index now: 23\n",
            "Pruned accuracy : 98.64899974019225\n",
            "Change in accuracy : 0.0\n",
            "Channels pruned : 33/60\n",
            "----------------------------------------------------------------\n",
            "Threshold of 2 %\n",
            "Channels pruned : 32/60\n",
            "Pruning channel index now: 6\n",
            "Pruned accuracy : 98.64899974019225\n",
            "Change in accuracy : 0.0\n",
            "Channels pruned : 34/60\n",
            "----------------------------------------------------------------\n",
            "Threshold of 2 %\n",
            "Channels pruned : 33/60\n",
            "Pruning channel index now: 51\n",
            "Pruned accuracy : 98.64033948211657\n",
            "Change in accuracy : 0.00866025807567894\n",
            "Channels pruned : 35/60\n",
            "----------------------------------------------------------------\n",
            "Threshold of 2 %\n",
            "Channels pruned : 34/60\n",
            "Pruning channel index now: 32\n",
            "Pruned accuracy : 98.64033948211657\n",
            "Change in accuracy : 0.00866025807567894\n",
            "Channels pruned : 36/60\n",
            "----------------------------------------------------------------\n",
            "Threshold of 2 %\n",
            "Channels pruned : 35/60\n",
            "Pruning channel index now: 22\n",
            "Pruned accuracy : 98.63167922404088\n",
            "Change in accuracy : 0.01732051615137209\n",
            "Channels pruned : 37/60\n",
            "----------------------------------------------------------------\n",
            "Threshold of 2 %\n",
            "Channels pruned : 36/60\n",
            "Pruning channel index now: 21\n",
            "Pruned accuracy : 98.65765999826795\n",
            "Change in accuracy : -0.00866025807569315\n",
            "Channels pruned : 38/60\n",
            "----------------------------------------------------------------\n",
            "Threshold of 2 %\n",
            "Channels pruned : 37/60\n",
            "Pruning channel index now: 20\n",
            "Pruned accuracy : 98.64899974019225\n",
            "Change in accuracy : 0.0\n",
            "Channels pruned : 39/60\n",
            "----------------------------------------------------------------\n",
            "Threshold of 2 %\n",
            "Channels pruned : 38/60\n",
            "Pruning channel index now: 19\n",
            "Pruned accuracy : 98.6056984498138\n",
            "Change in accuracy : 0.04330129037845154\n",
            "Channels pruned : 40/60\n",
            "----------------------------------------------------------------\n",
            "Threshold of 2 %\n",
            "Channels pruned : 39/60\n",
            "Pruning channel index now: 43\n",
            "Pruned accuracy : 98.57105741751104\n",
            "Change in accuracy : 0.07794232268120993\n",
            "Channels pruned : 41/60\n",
            "----------------------------------------------------------------\n",
            "Threshold of 2 %\n",
            "Channels pruned : 40/60\n",
            "Pruning channel index now: 58\n",
            "Pruned accuracy : 98.53641638520828\n",
            "Change in accuracy : 0.11258335498396832\n",
            "Channels pruned : 42/60\n",
            "----------------------------------------------------------------\n",
            "Threshold of 2 %\n",
            "Channels pruned : 41/60\n",
            "Pruning channel index now: 3\n",
            "Pruned accuracy : 98.19000606218066\n",
            "Change in accuracy : 0.45899367801159485\n",
            "Channels pruned : 43/60\n",
            "----------------------------------------------------------------\n",
            "Threshold of 2 %\n",
            "Channels pruned : 42/60\n",
            "Pruning channel index now: 42\n",
            "Pruned accuracy : 97.65307006148784\n",
            "Change in accuracy : 0.9959296787044138\n",
            "Channels pruned : 44/60\n",
            "----------------------------------------------------------------\n",
            "Threshold of 2 %\n",
            "Channels pruned : 43/60\n",
            "Pruning channel index now: 1\n",
            "Pruned accuracy : 97.50584567420108\n",
            "Change in accuracy : 1.143154065991169\n",
            "Channels pruned : 45/60\n"
          ]
        },
        {
          "output_type": "stream",
          "name": "stderr",
          "text": [
            "/usr/local/lib/python3.10/dist-packages/keras/src/engine/training.py:3079: UserWarning: You are saving your model as an HDF5 file via `model.save()`. This file format is considered legacy. We recommend using instead the native Keras format, e.g. `model.save('my_model.keras')`.\n",
            "  saving_api.save_model(\n",
            "WARNING:tensorflow:Compiled the loaded model, but the compiled metrics have yet to be built. `model.compile_metrics` will be empty until you train or evaluate the model.\n"
          ]
        },
        {
          "output_type": "stream",
          "name": "stdout",
          "text": [
            "----------------------------------------------------------------\n",
            "Threshold of 2 %\n",
            "Channels pruned : 44/60\n",
            "Pruning channel index now: 29\n",
            "Pruned accuracy : 95.75647354291158\n",
            "Change in accuracy : 2.8925261972806737\n",
            "Channels pruned : 46/60\n",
            "----------------------------------------------------------------\n",
            "Threshold of 4 %\n",
            "Channels pruned : 45/60\n",
            "Pruning channel index now: 16\n",
            "Pruned accuracy : 95.20221702606739\n",
            "Change in accuracy : 3.446782714124865\n",
            "Channels pruned : 47/60\n",
            "----------------------------------------------------------------\n",
            "Threshold of 4 %\n",
            "Channels pruned : 46/60\n",
            "Pruning channel index now: 56\n",
            "Pruned accuracy : 94.7172425738287\n",
            "Change in accuracy : 3.9317571663635533\n",
            "Channels pruned : 48/60\n"
          ]
        },
        {
          "output_type": "stream",
          "name": "stderr",
          "text": [
            "WARNING:tensorflow:Compiled the loaded model, but the compiled metrics have yet to be built. `model.compile_metrics` will be empty until you train or evaluate the model.\n"
          ]
        },
        {
          "output_type": "stream",
          "name": "stdout",
          "text": [
            "----------------------------------------------------------------\n",
            "Threshold of 4 %\n",
            "Channels pruned : 47/60\n",
            "Pruning channel index now: 46\n",
            "Pruned accuracy : 92.09318437689443\n",
            "Change in accuracy : 6.555815363297825\n",
            "Channels pruned : 49/60\n",
            "----------------------------------------------------------------\n",
            "Threshold of 10 %\n",
            "Channels pruned : 48/60\n",
            "Pruning channel index now: 5\n",
            "Pruned accuracy : 91.49562656967177\n",
            "Change in accuracy : 7.1533731705204815\n",
            "Channels pruned : 50/60\n",
            "----------------------------------------------------------------\n",
            "Threshold of 10 %\n",
            "Channels pruned : 49/60\n",
            "Pruning channel index now: 8\n",
            "Pruned accuracy : 91.01931237550879\n",
            "Change in accuracy : 7.629687364683463\n",
            "Channels pruned : 51/60\n",
            "----------------------------------------------------------------\n",
            "Threshold of 10 %\n",
            "Channels pruned : 50/60\n",
            "Pruning channel index now: 11\n",
            "Pruned accuracy : 89.17467740538669\n",
            "Change in accuracy : 9.474322334805564\n",
            "Channels pruned : 52/60\n"
          ]
        },
        {
          "output_type": "stream",
          "name": "stderr",
          "text": [
            "WARNING:tensorflow:Compiled the loaded model, but the compiled metrics have yet to be built. `model.compile_metrics` will be empty until you train or evaluate the model.\n"
          ]
        },
        {
          "output_type": "stream",
          "name": "stdout",
          "text": [
            "----------------------------------------------------------------\n",
            "Threshold of 10 %\n",
            "Channels pruned : 51/60\n",
            "Pruning channel index now: 54\n",
            "Pruned accuracy : 84.43751623798389\n",
            "Change in accuracy : 14.211483502208367\n"
          ]
        }
      ]
    },
    {
      "cell_type": "markdown",
      "source": [
        "# Logging"
      ],
      "metadata": {
        "id": "f0Un51z3yEnJ"
      }
    },
    {
      "cell_type": "code",
      "source": [
        "# Let us evaluate our different B' models\n",
        "\n",
        "#Load models\n",
        "mod_2 = load_model('/content/2_percent_model.h5')\n",
        "mod_4 = load_model('/content/4_percent_model.h5')\n",
        "mod_10 = load_model('/content/10_percent_model.h5')"
      ],
      "metadata": {
        "id": "4fupwFG9Xk_W",
        "outputId": "531d0a64-cb26-416e-d9af-05e5ff67325f",
        "colab": {
          "base_uri": "https://localhost:8080/"
        }
      },
      "execution_count": 10,
      "outputs": [
        {
          "output_type": "stream",
          "name": "stderr",
          "text": [
            "WARNING:tensorflow:No training configuration found in the save file, so the model was *not* compiled. Compile it manually.\n",
            "WARNING:tensorflow:No training configuration found in the save file, so the model was *not* compiled. Compile it manually.\n",
            "WARNING:tensorflow:No training configuration found in the save file, so the model was *not* compiled. Compile it manually.\n"
          ]
        }
      ]
    },
    {
      "cell_type": "markdown",
      "source": [
        "## Evaluate on the eval.py"
      ],
      "metadata": {
        "id": "up0n1xnUxksg"
      }
    },
    {
      "cell_type": "code",
      "source": [
        "# 2%\n",
        "model_filename = \"/content/2_percent_model.h5\"\n",
        "\n",
        "%run eval.py $clean_test_path $bad_test_path $model_filename\n"
      ],
      "metadata": {
        "id": "-XTOC6ggxPut",
        "outputId": "88a3866a-f0ed-495b-ad55-af2b24cb8f10",
        "colab": {
          "base_uri": "https://localhost:8080/"
        }
      },
      "execution_count": 14,
      "outputs": [
        {
          "output_type": "stream",
          "name": "stderr",
          "text": [
            "WARNING:tensorflow:No training configuration found in the save file, so the model was *not* compiled. Compile it manually.\n"
          ]
        },
        {
          "output_type": "stream",
          "name": "stdout",
          "text": [
            "401/401 [==============================] - 1s 2ms/step\n",
            "Clean Classification accuracy: 95.90023382696803\n",
            "401/401 [==============================] - 1s 2ms/step\n",
            "Attack Success Rate: 100.0\n"
          ]
        }
      ]
    },
    {
      "cell_type": "code",
      "source": [
        "# 4%\n",
        "\n",
        "model_filename = \"/content/4_percent_model.h5\"\n",
        "\n",
        "%run eval.py $clean_test_path $bad_test_path $model_filename"
      ],
      "metadata": {
        "id": "yIgfRMXVyOKO",
        "outputId": "ed26c6a8-f258-4268-f1a8-b05de369c0ea",
        "colab": {
          "base_uri": "https://localhost:8080/"
        }
      },
      "execution_count": 15,
      "outputs": [
        {
          "output_type": "stream",
          "name": "stderr",
          "text": [
            "WARNING:tensorflow:No training configuration found in the save file, so the model was *not* compiled. Compile it manually.\n"
          ]
        },
        {
          "output_type": "stream",
          "name": "stdout",
          "text": [
            "401/401 [==============================] - 1s 2ms/step\n",
            "Clean Classification accuracy: 92.29150428682775\n",
            "401/401 [==============================] - 1s 2ms/step\n",
            "Attack Success Rate: 99.98441153546376\n"
          ]
        }
      ]
    },
    {
      "cell_type": "code",
      "source": [
        "# 10%\n",
        "\n",
        "model_filename = \"/content/10_percent_model.h5\"\n",
        "\n",
        "%run eval.py $clean_test_path $bad_test_path $model_filename"
      ],
      "metadata": {
        "id": "nlApTSAgznIF",
        "outputId": "e4cc2089-3398-4dd3-937f-6ad07d5fb6ab",
        "colab": {
          "base_uri": "https://localhost:8080/"
        }
      },
      "execution_count": 16,
      "outputs": [
        {
          "output_type": "stream",
          "name": "stderr",
          "text": [
            "WARNING:tensorflow:No training configuration found in the save file, so the model was *not* compiled. Compile it manually.\n"
          ]
        },
        {
          "output_type": "stream",
          "name": "stdout",
          "text": [
            "401/401 [==============================] - 1s 2ms/step\n",
            "Clean Classification accuracy: 84.54403741231489\n",
            "401/401 [==============================] - 1s 2ms/step\n",
            "Attack Success Rate: 77.20966484801247\n"
          ]
        }
      ]
    },
    {
      "cell_type": "code",
      "source": [],
      "metadata": {
        "id": "vWaalIBBzsmA"
      },
      "execution_count": null,
      "outputs": []
    },
    {
      "cell_type": "markdown",
      "source": [
        "# Grouping the models together"
      ],
      "metadata": {
        "id": "Cy1TGWHQzw1x"
      }
    },
    {
      "cell_type": "code",
      "source": [
        "import tensorflow as tf\n",
        "from tensorflow import keras\n",
        "\n",
        "class GNet(keras.Model):\n",
        "    def __init__(self, B, B1, n=1283):\n",
        "        super(GNet, self).__init__()\n",
        "        self.B = B\n",
        "        self.B1 = B1\n",
        "        self.n = n\n",
        "\n",
        "    def call(self, data):\n",
        "        y = tf.argmax(self.B(data), axis=1, output_type=tf.int32)\n",
        "        y1 = tf.argmax(self.B1(data), axis=1, output_type=tf.int32)\n",
        "        default_class = tf.constant(self.n, dtype=tf.int32)\n",
        "        predictions = tf.where(tf.equal(y, y1), y, tf.fill(tf.shape(y), default_class))\n",
        "        return predictions\n"
      ],
      "metadata": {
        "id": "Xla1D7fFz9bm"
      },
      "execution_count": 50,
      "outputs": []
    },
    {
      "cell_type": "code",
      "source": [
        "G2 = GNet(B=Badnet, B1=mod_2, n=1283)\n",
        "G4 = GNet(B=Badnet, B1=mod_4, n=1283)\n",
        "G10 = GNet(B=Badnet, B1=mod_10, n=1283)"
      ],
      "metadata": {
        "id": "RM8ieN7I5-DV"
      },
      "execution_count": 53,
      "outputs": []
    },
    {
      "cell_type": "code",
      "source": [
        "def print_rates(model,n):\n",
        "  p1 = model.predict(clean_test)\n",
        "  acc = np.mean(np.equal(p1, clean_test_lab))*100\n",
        "  p2 = model.predict(bad_test)\n",
        "  attack_success_rate = np.mean(np.equal(p2,bad_test_lab))*100\n",
        "\n",
        "  print(f'Model {n}% : accuracy: {acc} : attack_success_rate: {attack_success_rate}')\n",
        "\n",
        "print_rates(G2,2)\n",
        "print_rates(G4,4)\n",
        "print_rates(G10,10)"
      ],
      "metadata": {
        "id": "OHUQx4t46W83",
        "outputId": "a99e9854-4085-4424-ea26-7aa093516bb0",
        "colab": {
          "base_uri": "https://localhost:8080/"
        }
      },
      "execution_count": 54,
      "outputs": [
        {
          "output_type": "stream",
          "name": "stdout",
          "text": [
            "401/401 [==============================] - 1s 3ms/step\n",
            "401/401 [==============================] - 1s 3ms/step\n",
            "Model 2% : accuracy: 95.74434918160561 : attack_success_rate: 100.0\n",
            "401/401 [==============================] - 1s 3ms/step\n",
            "401/401 [==============================] - 1s 3ms/step\n",
            "Model 4% : accuracy: 92.1278254091972 : attack_success_rate: 99.98441153546376\n",
            "401/401 [==============================] - 1s 3ms/step\n",
            "401/401 [==============================] - 1s 3ms/step\n",
            "Model 10% : accuracy: 84.3335931410756 : attack_success_rate: 77.20966484801247\n"
          ]
        }
      ]
    },
    {
      "cell_type": "markdown",
      "source": [
        "# Plot acc vs channels pruned"
      ],
      "metadata": {
        "id": "fdgXaGk49iH_"
      }
    },
    {
      "cell_type": "code",
      "source": [
        "acc_after_prune\n",
        "\n",
        "list_acc = []\n",
        "percentage_pruned = []\n",
        "for num,i in enumerate(sorted_channels):\n",
        "  if i in acc_after_prune.keys():\n",
        "    list_acc.append(acc_after_prune[i])\n",
        "    percentage_pruned.append(int(num/60*100))\n",
        "\n",
        "\n",
        "import matplotlib.pyplot as plt\n",
        "\n",
        "\n",
        "plt.plot(percentage_pruned,list_acc, marker='o', linestyle='-')\n",
        "plt.title('Accuracy vs Percentage Pruned')\n",
        "plt.xlabel('Percentage Pruned')\n",
        "plt.ylabel('Accuracy')\n",
        "plt.grid(True)\n",
        "plt.show()\n",
        "\n",
        "\n"
      ],
      "metadata": {
        "id": "P7yXoDkB-LTK",
        "outputId": "a9d8ade2-3eb9-4db0-85c3-17dc411f76d5",
        "colab": {
          "base_uri": "https://localhost:8080/",
          "height": 472
        }
      },
      "execution_count": 59,
      "outputs": [
        {
          "output_type": "display_data",
          "data": {
            "text/plain": [
              "<Figure size 640x480 with 1 Axes>"
            ],
            "image/png": "[encoded data removed]"
          },
          "metadata": {}
        }
      ]
    },
    {
      "cell_type": "code",
      "source": [],
      "metadata": {
        "id": "N3YAAppt_Bo1"
      },
      "execution_count": null,
      "outputs": []
    }
  ]
}